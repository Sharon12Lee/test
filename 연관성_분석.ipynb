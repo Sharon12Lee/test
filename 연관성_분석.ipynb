{
  "nbformat": 4,
  "nbformat_minor": 0,
  "metadata": {
    "colab": {
      "provenance": [],
      "authorship_tag": "ABX9TyNUcX1Zvw8/yNyV/5sbrHJN",
      "include_colab_link": true
    },
    "kernelspec": {
      "name": "python3",
      "display_name": "Python 3"
    },
    "language_info": {
      "name": "python"
    }
  },
  "cells": [
    {
      "cell_type": "markdown",
      "metadata": {
        "id": "view-in-github",
        "colab_type": "text"
      },
      "source": [
        "<a href=\"https://colab.research.google.com/github/Sharon12Lee/test/blob/main/%EC%97%B0%EA%B4%80%EC%84%B1_%EB%B6%84%EC%84%9D.ipynb\" target=\"_parent\"><img src=\"https://colab.research.google.com/assets/colab-badge.svg\" alt=\"Open In Colab\"/></a>"
      ]
    },
    {
      "cell_type": "markdown",
      "source": [
        "## 연관석 분석 수행"
      ],
      "metadata": {
        "id": "0GI3L3SUcql2"
      }
    },
    {
      "cell_type": "code",
      "source": [
        "import pandas as pd\n",
        "import matplotlib.pylab as plt\n",
        "from mlxtend.frequent_patterns import apriori\n",
        "from mlxtend.frequent_patterns import association_rules\n"
      ],
      "metadata": {
        "colab": {
          "base_uri": "https://localhost:8080/"
        },
        "id": "qQ1EeyeHcqEP",
        "outputId": "c2ba73fd-8282-455a-d252-588bb744799a"
      },
      "execution_count": null,
      "outputs": [
        {
          "output_type": "stream",
          "name": "stderr",
          "text": [
            "/usr/local/lib/python3.10/dist-packages/ipykernel/ipkernel.py:283: DeprecationWarning: `should_run_async` will not call `transform_cell` automatically in the future. Please pass the result to `transformed_cell` argument and any exception that happen during thetransform in `preprocessing_exc_tuple` in IPython 7.17 and above.\n",
            "  and should_run_async(code)\n"
          ]
        }
      ]
    },
    {
      "cell_type": "code",
      "source": [
        "# Load and preprocess data set\n",
        "fp_df = pd.read_csv('https://raw.githubusercontent.com/kwartler/Harvard_DataMining_Business_Student/master/BookDataSets/Faceplate.csv')\n",
        "print('인덱스 설정 이전\\n', fp_df)\n",
        "\n",
        "fp_df.set_index('Transaction', inplace=True)\n",
        "print('인덱스 설정 이후\\n', fp_df)"
      ],
      "metadata": {
        "colab": {
          "base_uri": "https://localhost:8080/"
        },
        "id": "gHcXUOKhSrTP",
        "outputId": "d24b5858-8ed1-4edc-f97c-968acb549771"
      },
      "execution_count": null,
      "outputs": [
        {
          "output_type": "stream",
          "name": "stdout",
          "text": [
            "인덱스 설정 이전\n",
            "    Transaction  Red  White  Blue  Orange  Green  Yellow\n",
            "0            1    1      1     0       0      1       0\n",
            "1            2    0      1     0       1      0       0\n",
            "2            3    0      1     1       0      0       0\n",
            "3            4    1      1     0       1      0       0\n",
            "4            5    1      0     1       0      0       0\n",
            "5            6    0      1     1       0      0       0\n",
            "6            7    1      0     1       0      0       0\n",
            "7            8    1      1     1       0      1       0\n",
            "8            9    1      1     1       0      0       0\n",
            "9           10    0      0     0       0      0       1\n",
            "인덱스 설정 이후\n",
            "              Red  White  Blue  Orange  Green  Yellow\n",
            "Transaction                                         \n",
            "1              1      1     0       0      1       0\n",
            "2              0      1     0       1      0       0\n",
            "3              0      1     1       0      0       0\n",
            "4              1      1     0       1      0       0\n",
            "5              1      0     1       0      0       0\n",
            "6              0      1     1       0      0       0\n",
            "7              1      0     1       0      0       0\n",
            "8              1      1     1       0      1       0\n",
            "9              1      1     1       0      0       0\n",
            "10             0      0     0       0      0       1\n"
          ]
        },
        {
          "output_type": "stream",
          "name": "stderr",
          "text": [
            "/usr/local/lib/python3.10/dist-packages/ipykernel/ipkernel.py:283: DeprecationWarning: `should_run_async` will not call `transform_cell` automatically in the future. Please pass the result to `transformed_cell` argument and any exception that happen during thetransform in `preprocessing_exc_tuple` in IPython 7.17 and above.\n",
            "  and should_run_async(code)\n"
          ]
        }
      ]
    },
    {
      "cell_type": "code",
      "source": [
        "# 이것은 임시 코드 (결과 중 상위 6개만 일단 출력)\n",
        "# create frequent itemsets\n",
        "itemsets = apriori(fp_df, min_support=0.2, use_colnames=True)\n",
        "\n",
        "# and convert into rules\n",
        "rules = association_rules(itemsets, metric='confidence', min_threshold=0.5)\n",
        "results = rules.sort_values(by=['lift'], ascending=False).head(6)\n",
        "\n",
        "print(results.drop(columns=['antecedent support', 'consequent support', 'conviction', 'zhangs_metric']).head(6))"
      ],
      "metadata": {
        "colab": {
          "base_uri": "https://localhost:8080/"
        },
        "id": "T06yu-G52HQM",
        "outputId": "aadf1d2a-4ba6-4c61-e457-6a51296cff71"
      },
      "execution_count": null,
      "outputs": [
        {
          "output_type": "stream",
          "name": "stdout",
          "text": [
            "       antecedents   consequents  support  confidence      lift  leverage\n",
            "12    (White, Red)       (Green)      0.2         0.5  2.500000      0.12\n",
            "15         (Green)  (White, Red)      0.2         1.0  2.500000      0.12\n",
            "4          (Green)         (Red)      0.2         1.0  1.666667      0.08\n",
            "13  (White, Green)         (Red)      0.2         1.0  1.666667      0.08\n",
            "7         (Orange)       (White)      0.2         1.0  1.428571      0.06\n",
            "8          (Green)       (White)      0.2         1.0  1.428571      0.06\n"
          ]
        },
        {
          "output_type": "stream",
          "name": "stderr",
          "text": [
            "/usr/local/lib/python3.10/dist-packages/ipykernel/ipkernel.py:283: DeprecationWarning: `should_run_async` will not call `transform_cell` automatically in the future. Please pass the result to `transformed_cell` argument and any exception that happen during thetransform in `preprocessing_exc_tuple` in IPython 7.17 and above.\n",
            "  and should_run_async(code)\n",
            "/usr/local/lib/python3.10/dist-packages/mlxtend/frequent_patterns/fpcommon.py:110: DeprecationWarning: DataFrames with non-bool types result in worse computationalperformance and their support might be discontinued in the future.Please use a DataFrame with bool type\n",
            "  warnings.warn(\n"
          ]
        }
      ]
    },
    {
      "cell_type": "code",
      "source": [
        "# create frequent itemsets\n",
        "itemsets = apriori(fp_df, min_support=0.2, use_colnames=True)\n",
        "\n",
        "# and convert into rules\n",
        "rules = association_rules(itemsets, metric='confidence', min_threshold=0.5)\n",
        "results = rules.sort_values(by=['lift'], ascending=False)\n",
        "\n",
        "print(results.drop(columns=['antecedent support', 'consequent support', 'conviction', 'zhangs_metric']))"
      ],
      "metadata": {
        "colab": {
          "base_uri": "https://localhost:8080/"
        },
        "id": "PbMsBKdj25hE",
        "outputId": "15d63e46-7e04-472b-9b9e-1a965099f8e5"
      },
      "execution_count": null,
      "outputs": [
        {
          "output_type": "stream",
          "name": "stdout",
          "text": [
            "       antecedents   consequents  support  confidence      lift  leverage\n",
            "12    (White, Red)       (Green)      0.2    0.500000  2.500000      0.12\n",
            "15         (Green)  (White, Red)      0.2    1.000000  2.500000      0.12\n",
            "4          (Green)         (Red)      0.2    1.000000  1.666667      0.08\n",
            "13  (White, Green)         (Red)      0.2    1.000000  1.666667      0.08\n",
            "7         (Orange)       (White)      0.2    1.000000  1.428571      0.06\n",
            "8          (Green)       (White)      0.2    1.000000  1.428571      0.06\n",
            "14    (Green, Red)       (White)      0.2    1.000000  1.428571      0.06\n",
            "2           (Blue)         (Red)      0.4    0.666667  1.111111      0.04\n",
            "3            (Red)        (Blue)      0.4    0.666667  1.111111      0.04\n",
            "0          (White)         (Red)      0.4    0.571429  0.952381     -0.02\n",
            "1            (Red)       (White)      0.4    0.666667  0.952381     -0.02\n",
            "5          (White)        (Blue)      0.4    0.571429  0.952381     -0.02\n",
            "6           (Blue)       (White)      0.4    0.666667  0.952381     -0.02\n",
            "9    (White, Blue)         (Red)      0.2    0.500000  0.833333     -0.04\n",
            "10    (White, Red)        (Blue)      0.2    0.500000  0.833333     -0.04\n",
            "11     (Blue, Red)       (White)      0.2    0.500000  0.714286     -0.08\n"
          ]
        },
        {
          "output_type": "stream",
          "name": "stderr",
          "text": [
            "/usr/local/lib/python3.10/dist-packages/ipykernel/ipkernel.py:283: DeprecationWarning: `should_run_async` will not call `transform_cell` automatically in the future. Please pass the result to `transformed_cell` argument and any exception that happen during thetransform in `preprocessing_exc_tuple` in IPython 7.17 and above.\n",
            "  and should_run_async(code)\n",
            "/usr/local/lib/python3.10/dist-packages/mlxtend/frequent_patterns/fpcommon.py:110: DeprecationWarning: DataFrames with non-bool types result in worse computationalperformance and their support might be discontinued in the future.Please use a DataFrame with bool type\n",
            "  warnings.warn(\n"
          ]
        }
      ]
    }
  ]
}