{
  "nbformat": 4,
  "nbformat_minor": 0,
  "metadata": {
    "colab": {
      "provenance": [],
      "authorship_tag": "ABX9TyMUwS0pQSoe7V01SWCSLlGY",
      "include_colab_link": true
    },
    "kernelspec": {
      "name": "python3",
      "display_name": "Python 3"
    },
    "language_info": {
      "name": "python"
    }
  },
  "cells": [
    {
      "cell_type": "markdown",
      "metadata": {
        "id": "view-in-github",
        "colab_type": "text"
      },
      "source": [
        "<a href=\"https://colab.research.google.com/github/Sharon12Lee/test/blob/main/%EC%97%B0%EA%B4%80%EC%84%B1_%EB%B6%84%EC%84%9D_2(FP_growth_%EC%B6%94%EA%B0%80)_1.ipynb\" target=\"_parent\"><img src=\"https://colab.research.google.com/assets/colab-badge.svg\" alt=\"Open In Colab\"/></a>"
      ]
    },
    {
      "cell_type": "markdown",
      "source": [
        "## 연관석 분석 수행"
      ],
      "metadata": {
        "id": "0GI3L3SUcql2"
      }
    },
    {
      "cell_type": "code",
      "source": [
        "import pandas as pd\n",
        "#import matplotlib.pylab as plt\n",
        "from mlxtend.frequent_patterns import apriori\n",
        "from mlxtend.frequent_patterns import association_rules\n"
      ],
      "metadata": {
        "id": "qQ1EeyeHcqEP"
      },
      "execution_count": 11,
      "outputs": []
    },
    {
      "cell_type": "code",
      "source": [
        "# Load and preprocess data set\n",
        "fp_df = pd.read_csv('https://raw.githubusercontent.com/kwartler/Harvard_DataMining_Business_Student/master/BookDataSets/Faceplate.csv')\n",
        "print('인덱스 설정 이전\\n', fp_df)\n",
        "\n",
        "fp_df.set_index('Transaction', inplace=True)\n",
        "print('인덱스 설정 이후\\n', fp_df)"
      ],
      "metadata": {
        "colab": {
          "base_uri": "https://localhost:8080/"
        },
        "id": "gHcXUOKhSrTP",
        "outputId": "10c98ddb-aee7-463d-d3b7-3224a177eb75"
      },
      "execution_count": 12,
      "outputs": [
        {
          "output_type": "stream",
          "name": "stdout",
          "text": [
            "인덱스 설정 이전\n",
            "    Transaction  Red  White  Blue  Orange  Green  Yellow\n",
            "0            1    1      1     0       0      1       0\n",
            "1            2    0      1     0       1      0       0\n",
            "2            3    0      1     1       0      0       0\n",
            "3            4    1      1     0       1      0       0\n",
            "4            5    1      0     1       0      0       0\n",
            "5            6    0      1     1       0      0       0\n",
            "6            7    1      0     1       0      0       0\n",
            "7            8    1      1     1       0      1       0\n",
            "8            9    1      1     1       0      0       0\n",
            "9           10    0      0     0       0      0       1\n",
            "인덱스 설정 이후\n",
            "              Red  White  Blue  Orange  Green  Yellow\n",
            "Transaction                                         \n",
            "1              1      1     0       0      1       0\n",
            "2              0      1     0       1      0       0\n",
            "3              0      1     1       0      0       0\n",
            "4              1      1     0       1      0       0\n",
            "5              1      0     1       0      0       0\n",
            "6              0      1     1       0      0       0\n",
            "7              1      0     1       0      0       0\n",
            "8              1      1     1       0      1       0\n",
            "9              1      1     1       0      0       0\n",
            "10             0      0     0       0      0       1\n"
          ]
        }
      ]
    },
    {
      "cell_type": "code",
      "source": [
        "# 이것은 임시 코드 (결과 중 상위 6개만 일단 출력)\n",
        "# create frequent itemsets\n",
        "itemsets = apriori(fp_df, min_support=0.2, use_colnames=True)\n",
        "\n",
        "# and convert into rules\n",
        "rules = association_rules(itemsets, metric='confidence', min_threshold=0.5)\n",
        "results = rules.sort_values(by=['lift'], ascending=False).head(6)\n",
        "\n",
        "print(results.drop(columns=['antecedent support', 'consequent support', 'conviction', 'zhangs_metric']).head(6))"
      ],
      "metadata": {
        "colab": {
          "base_uri": "https://localhost:8080/"
        },
        "id": "T06yu-G52HQM",
        "outputId": "4078bb3a-a936-4968-9820-b84d1f3600dd"
      },
      "execution_count": 18,
      "outputs": [
        {
          "output_type": "stream",
          "name": "stdout",
          "text": [
            "       antecedents   consequents  support  confidence      lift  \\\n",
            "13    (Red, White)       (Green)      0.2         0.5  2.500000   \n",
            "15         (Green)  (Red, White)      0.2         1.0  2.500000   \n",
            "4          (Green)         (Red)      0.2         1.0  1.666667   \n",
            "14  (Green, White)         (Red)      0.2         1.0  1.666667   \n",
            "7         (Orange)       (White)      0.2         1.0  1.428571   \n",
            "8          (Green)       (White)      0.2         1.0  1.428571   \n",
            "\n",
            "    representativity  leverage   jaccard  certainty  kulczynski  \n",
            "13               1.0      0.12  0.500000      0.375    0.750000  \n",
            "15               1.0      0.12  0.500000      1.000    0.750000  \n",
            "4                1.0      0.08  0.333333      1.000    0.666667  \n",
            "14               1.0      0.08  0.333333      1.000    0.666667  \n",
            "7                1.0      0.06  0.285714      1.000    0.642857  \n",
            "8                1.0      0.06  0.285714      1.000    0.642857  \n"
          ]
        },
        {
          "output_type": "stream",
          "name": "stderr",
          "text": [
            "/usr/local/lib/python3.11/dist-packages/mlxtend/frequent_patterns/fpcommon.py:161: DeprecationWarning: DataFrames with non-bool types result in worse computationalperformance and their support might be discontinued in the future.Please use a DataFrame with bool type\n",
            "  warnings.warn(\n"
          ]
        }
      ]
    },
    {
      "cell_type": "code",
      "source": [
        "# create frequent itemsets\n",
        "itemsets = apriori(fp_df, min_support=0.2, use_colnames=True)\n",
        "\n",
        "# and convert into rules\n",
        "rules = association_rules(itemsets, metric='confidence', min_threshold=0.5)\n",
        "results = rules.sort_values(by=['lift'], ascending=False)\n",
        "\n",
        "print(results.drop(columns=['antecedent support', 'consequent support', 'conviction', 'zhangs_metric', 'representativity', 'jaccard', 'certainty', 'kulczynski']))\n"
      ],
      "metadata": {
        "colab": {
          "base_uri": "https://localhost:8080/"
        },
        "id": "PbMsBKdj25hE",
        "outputId": "5d0a7d07-6732-4614-cf19-4d9161f3e8c1"
      },
      "execution_count": 19,
      "outputs": [
        {
          "output_type": "stream",
          "name": "stdout",
          "text": [
            "       antecedents   consequents  support  confidence      lift  leverage\n",
            "13    (Red, White)       (Green)      0.2    0.500000  2.500000      0.12\n",
            "15         (Green)  (Red, White)      0.2    1.000000  2.500000      0.12\n",
            "4          (Green)         (Red)      0.2    1.000000  1.666667      0.08\n",
            "14  (Green, White)         (Red)      0.2    1.000000  1.666667      0.08\n",
            "7         (Orange)       (White)      0.2    1.000000  1.428571      0.06\n",
            "8          (Green)       (White)      0.2    1.000000  1.428571      0.06\n",
            "12    (Red, Green)       (White)      0.2    1.000000  1.428571      0.06\n",
            "2            (Red)        (Blue)      0.4    0.666667  1.111111      0.04\n",
            "3           (Blue)         (Red)      0.4    0.666667  1.111111      0.04\n",
            "0            (Red)       (White)      0.4    0.666667  0.952381     -0.02\n",
            "1          (White)         (Red)      0.4    0.571429  0.952381     -0.02\n",
            "5           (Blue)       (White)      0.4    0.666667  0.952381     -0.02\n",
            "6          (White)        (Blue)      0.4    0.571429  0.952381     -0.02\n",
            "10    (Red, White)        (Blue)      0.2    0.500000  0.833333     -0.04\n",
            "11   (Blue, White)         (Red)      0.2    0.500000  0.833333     -0.04\n",
            "9      (Red, Blue)       (White)      0.2    0.500000  0.714286     -0.08\n"
          ]
        },
        {
          "output_type": "stream",
          "name": "stderr",
          "text": [
            "/usr/local/lib/python3.11/dist-packages/mlxtend/frequent_patterns/fpcommon.py:161: DeprecationWarning: DataFrames with non-bool types result in worse computationalperformance and their support might be discontinued in the future.Please use a DataFrame with bool type\n",
            "  warnings.warn(\n"
          ]
        }
      ]
    },
    {
      "cell_type": "code",
      "source": [
        "# FP-Growth 알고리즘 적용해 보기\n",
        "\n",
        "from mlxtend.frequent_patterns import fpgrowth  #apriori 대신 이것 사용하는 것만 다름\n",
        "\n",
        "# create frequent itemsets\n",
        "itemsets = fpgrowth(fp_df, min_support=0.2, use_colnames=True)\n",
        "\n",
        "# and convert into rules\n",
        "rules = association_rules(itemsets, metric='confidence', min_threshold=0.5)\n",
        "results = rules.sort_values(by=['lift'], ascending=False)\n",
        "\n",
        "print(results.drop(columns=['antecedent support', 'consequent support', 'conviction', 'zhangs_metric', 'representativity', 'jaccard', 'certainty', 'kulczynski']))\n",
        "\n"
      ],
      "metadata": {
        "colab": {
          "base_uri": "https://localhost:8080/"
        },
        "id": "tbYnzThV7VVd",
        "outputId": "98dc1d4a-c5f4-4689-9b6b-939390c56d02"
      },
      "execution_count": 17,
      "outputs": [
        {
          "output_type": "stream",
          "name": "stdout",
          "text": [
            "       antecedents   consequents  support  confidence      lift  leverage\n",
            "10    (Red, White)       (Green)      0.2    0.500000  2.500000      0.12\n",
            "12         (Green)  (Red, White)      0.2    1.000000  2.500000      0.12\n",
            "7          (Green)         (Red)      0.2    1.000000  1.666667      0.08\n",
            "11  (Green, White)         (Red)      0.2    1.000000  1.666667      0.08\n",
            "8          (Green)       (White)      0.2    1.000000  1.428571      0.06\n",
            "9     (Red, Green)       (White)      0.2    1.000000  1.428571      0.06\n",
            "13        (Orange)       (White)      0.2    1.000000  1.428571      0.06\n",
            "2            (Red)        (Blue)      0.4    0.666667  1.111111      0.04\n",
            "3           (Blue)         (Red)      0.4    0.666667  1.111111      0.04\n",
            "0            (Red)       (White)      0.4    0.666667  0.952381     -0.02\n",
            "1          (White)         (Red)      0.4    0.571429  0.952381     -0.02\n",
            "14          (Blue)       (White)      0.4    0.666667  0.952381     -0.02\n",
            "15         (White)        (Blue)      0.4    0.571429  0.952381     -0.02\n",
            "5     (Red, White)        (Blue)      0.2    0.500000  0.833333     -0.04\n",
            "6    (Blue, White)         (Red)      0.2    0.500000  0.833333     -0.04\n",
            "4      (Red, Blue)       (White)      0.2    0.500000  0.714286     -0.08\n"
          ]
        },
        {
          "output_type": "stream",
          "name": "stderr",
          "text": [
            "/usr/local/lib/python3.11/dist-packages/mlxtend/frequent_patterns/fpcommon.py:161: DeprecationWarning: DataFrames with non-bool types result in worse computationalperformance and their support might be discontinued in the future.Please use a DataFrame with bool type\n",
            "  warnings.warn(\n"
          ]
        }
      ]
    }
  ]
}
