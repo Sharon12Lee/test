from sklearn.metrics import confusion_matrix
from sklearn.metrics import classification_report

print('train data 적용 모델 성능 결과')
print(confusion_matrix(train_target, dt.predict(train_input)))
print(classification_report(train_target, dt.predict(train_input)))

print('test data 적용 모델 성능 결과')
print(confusion_matrix(test_target,dt.predict(test_input)))
print(classification_report(test_target, dt.predict(test_input)))
